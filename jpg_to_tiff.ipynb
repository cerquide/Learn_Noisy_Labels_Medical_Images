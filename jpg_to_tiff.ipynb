{
 "cells": [
  {
   "cell_type": "code",
   "execution_count": 5,
   "id": "a8a65a7b",
   "metadata": {},
   "outputs": [],
   "source": [
    "import PIL\n",
    "from PIL import Image\n",
    "import os"
   ]
  },
  {
   "cell_type": "markdown",
   "id": "10f18dfa",
   "metadata": {},
   "source": [
    "## Convert masks from .jpg to .tif and populate GT folder"
   ]
  },
  {
   "cell_type": "code",
   "execution_count": 15,
   "id": "aa4c9140",
   "metadata": {},
   "outputs": [],
   "source": [
    "path_old = '/Users/gathanasiou/data/eurova/oocyte_follicle_database/entropy/cleaned_roi_masks/oocytes/'\n",
    "path_new = '/Users/gathanasiou/git/Learn_Noisy_Labels_Medical_Images/oocytes_examples/train/GT/'"
   ]
  },
  {
   "cell_type": "code",
   "execution_count": 16,
   "id": "33d70e41",
   "metadata": {},
   "outputs": [],
   "source": [
    "for img in os.listdir(path_old):\n",
    "    if img.endswith('.jpg'):\n",
    "        im = Image.open(os.path.join(path_old, img))\n",
    "        im.save(path_new + img[:-4] + '.tif')"
   ]
  },
  {
   "cell_type": "markdown",
   "id": "b9a2cf93",
   "metadata": {},
   "source": [
    "## Convert images from .jpg to .tif and populate Gaussian folder"
   ]
  },
  {
   "cell_type": "code",
   "execution_count": 19,
   "id": "acba9b71",
   "metadata": {},
   "outputs": [],
   "source": [
    "path_old = '/Users/gathanasiou/data/eurova/oocyte_follicle_database/entropy/cleaned_roi_oocyte_follicles/'\n",
    "path_new = '/Users/gathanasiou/git/Learn_Noisy_Labels_Medical_Images/oocytes_examples/train/Gaussian/'"
   ]
  },
  {
   "cell_type": "code",
   "execution_count": 20,
   "id": "b8309098",
   "metadata": {},
   "outputs": [],
   "source": [
    "for img in os.listdir(path_old):\n",
    "    if img.endswith('.jpg'):\n",
    "        im = Image.open(os.path.join(path_old, img))\n",
    "        im.save(path_new + img[:-4] + '.tif')"
   ]
  },
  {
   "cell_type": "markdown",
   "id": "b43447f1",
   "metadata": {},
   "source": [
    "## Convert over/under masks from .jpg to .tif and populate over/under folder"
   ]
  },
  {
   "cell_type": "code",
   "execution_count": 23,
   "id": "1ecddb38",
   "metadata": {},
   "outputs": [],
   "source": [
    "path_old = '/Users/gathanasiou/data/eurova/oocyte_follicle_database/entropy/max_min_data/real_masks/oocytes/'\n",
    "path_new_over = '/Users/gathanasiou/git/Learn_Noisy_Labels_Medical_Images/oocytes_examples/train/Over/'\n",
    "path_new_under = '/Users/gathanasiou/git/Learn_Noisy_Labels_Medical_Images/oocytes_examples/train/Under/'"
   ]
  },
  {
   "cell_type": "code",
   "execution_count": 24,
   "id": "73ad08c4",
   "metadata": {},
   "outputs": [],
   "source": [
    "for img in os.listdir(path_old):\n",
    "    if img.endswith('i.jpg'):\n",
    "        im = Image.open(os.path.join(path_old, img))\n",
    "        im.save(path_new_over + img[:-5] + '.tif')\n",
    "    if img.endswith('j.jpg'):\n",
    "        im = Image.open(os.path.join(path_old, img))\n",
    "        im.save(path_new_under + img[:-5] + '.tif')"
   ]
  },
  {
   "cell_type": "markdown",
   "id": "fc60db5c",
   "metadata": {},
   "source": [
    "## Move wrong result masks to wrong folder"
   ]
  },
  {
   "cell_type": "code",
   "execution_count": 27,
   "id": "be767578",
   "metadata": {},
   "outputs": [],
   "source": [
    "path_old = '/Users/gathanasiou/data/eurova/oocyte_follicle_database/results/oocytes/oocytes_over_under_orig_gaus_300e_TLhuman/cleaned_roi_oocyte_follicles/'\n",
    "path_new = '/Users/gathanasiou/git/Learn_Noisy_Labels_Medical_Images/oocytes_examples/train/Wrong/'"
   ]
  },
  {
   "cell_type": "code",
   "execution_count": 28,
   "id": "c719376b",
   "metadata": {},
   "outputs": [],
   "source": [
    "for img in os.listdir(path_old):\n",
    "    if img.endswith('.jpg'):\n",
    "        im = Image.open(os.path.join(path_old, img))\n",
    "        im.save(path_new + img[:-4] + '.tif')"
   ]
  },
  {
   "cell_type": "markdown",
   "id": "c63d9ff0",
   "metadata": {},
   "source": [
    "## Resize from 600, 601, to 256"
   ]
  },
  {
   "cell_type": "code",
   "execution_count": 48,
   "id": "37091a2a",
   "metadata": {},
   "outputs": [],
   "source": [
    "path = '/Users/gathanasiou/git/Learn_Noisy_Labels_Medical_Images/oocytes_examples/train/Wrong/'"
   ]
  },
  {
   "cell_type": "code",
   "execution_count": 49,
   "id": "a976855c",
   "metadata": {},
   "outputs": [],
   "source": [
    "img_size = (256, 256)"
   ]
  },
  {
   "cell_type": "code",
   "execution_count": 50,
   "id": "77d565fd",
   "metadata": {},
   "outputs": [],
   "source": [
    "for img in os.listdir(path):\n",
    "    if img.endswith('.tif'):\n",
    "        im = Image.open(os.path.join(path, img))\n",
    "        im.thumbnail(img_size)\n",
    "        im.save(path + img)"
   ]
  },
  {
   "cell_type": "code",
   "execution_count": null,
   "id": "9f3b6010",
   "metadata": {},
   "outputs": [],
   "source": []
  }
 ],
 "metadata": {
  "kernelspec": {
   "display_name": "Python 3",
   "language": "python",
   "name": "python3"
  },
  "language_info": {
   "codemirror_mode": {
    "name": "ipython",
    "version": 3
   },
   "file_extension": ".py",
   "mimetype": "text/x-python",
   "name": "python",
   "nbconvert_exporter": "python",
   "pygments_lexer": "ipython3",
   "version": "3.6.15"
  }
 },
 "nbformat": 4,
 "nbformat_minor": 5
}
